{
 "cells": [
  {
   "cell_type": "markdown",
   "metadata": {},
   "source": [
    "### Final stages of data preprocessing before training"
   ]
  },
  {
   "cell_type": "markdown",
   "metadata": {},
   "source": [
    "The goal is to consolidate the processed twitter data and the MSFT stock data. For each date, collect the last ten days of stock data, and the last five days of twitter data (for each day, average tweet volume, average sentiment). Also determine if the stock price went up (1) or down (0) and use as class/label.  "
   ]
  },
  {
   "cell_type": "code",
   "execution_count": 205,
   "metadata": {},
   "outputs": [],
   "source": [
    "import time\n",
    "import matplotlib.pyplot as plt\n",
    "import pandas as pd\n",
    "import numpy as np\n",
    "import math\n",
    "import base64\n",
    "from datetime import datetime, timedelta\n",
    "\n",
    "%matplotlib inline"
   ]
  },
  {
   "cell_type": "code",
   "execution_count": 206,
   "metadata": {},
   "outputs": [
    {
     "data": {
      "text/plain": [
       "(241, 7)"
      ]
     },
     "execution_count": 206,
     "metadata": {},
     "output_type": "execute_result"
    }
   ],
   "source": [
    "msft_stock = pd.read_csv('MSFT.csv')\n",
    "msft_stock.head()\n",
    "msft_stock.shape"
   ]
  },
  {
   "cell_type": "code",
   "execution_count": 207,
   "metadata": {},
   "outputs": [
    {
     "data": {
      "text/html": [
       "<div>\n",
       "<style scoped>\n",
       "    .dataframe tbody tr th:only-of-type {\n",
       "        vertical-align: middle;\n",
       "    }\n",
       "\n",
       "    .dataframe tbody tr th {\n",
       "        vertical-align: top;\n",
       "    }\n",
       "\n",
       "    .dataframe thead th {\n",
       "        text-align: right;\n",
       "    }\n",
       "</style>\n",
       "<table border=\"1\" class=\"dataframe\">\n",
       "  <thead>\n",
       "    <tr style=\"text-align: right;\">\n",
       "      <th></th>\n",
       "      <th>Date</th>\n",
       "      <th>Open</th>\n",
       "      <th>High</th>\n",
       "      <th>Low</th>\n",
       "      <th>Close</th>\n",
       "      <th>Adj Close</th>\n",
       "      <th>Volume</th>\n",
       "    </tr>\n",
       "  </thead>\n",
       "  <tbody>\n",
       "    <tr>\n",
       "      <th>0</th>\n",
       "      <td>2015-04-27</td>\n",
       "      <td>47.230000</td>\n",
       "      <td>48.130001</td>\n",
       "      <td>47.220001</td>\n",
       "      <td>48.029999</td>\n",
       "      <td>43.880901</td>\n",
       "      <td>59248200</td>\n",
       "    </tr>\n",
       "    <tr>\n",
       "      <th>1</th>\n",
       "      <td>2015-04-28</td>\n",
       "      <td>47.779999</td>\n",
       "      <td>49.209999</td>\n",
       "      <td>47.700001</td>\n",
       "      <td>49.160000</td>\n",
       "      <td>44.913280</td>\n",
       "      <td>60730800</td>\n",
       "    </tr>\n",
       "    <tr>\n",
       "      <th>2</th>\n",
       "      <td>2015-04-29</td>\n",
       "      <td>48.720001</td>\n",
       "      <td>49.310001</td>\n",
       "      <td>48.500000</td>\n",
       "      <td>49.060001</td>\n",
       "      <td>44.821926</td>\n",
       "      <td>47804600</td>\n",
       "    </tr>\n",
       "    <tr>\n",
       "      <th>3</th>\n",
       "      <td>2015-04-30</td>\n",
       "      <td>48.700001</td>\n",
       "      <td>49.540001</td>\n",
       "      <td>48.599998</td>\n",
       "      <td>48.639999</td>\n",
       "      <td>44.438210</td>\n",
       "      <td>64725500</td>\n",
       "    </tr>\n",
       "    <tr>\n",
       "      <th>4</th>\n",
       "      <td>2015-05-01</td>\n",
       "      <td>48.580002</td>\n",
       "      <td>48.880001</td>\n",
       "      <td>48.400002</td>\n",
       "      <td>48.660000</td>\n",
       "      <td>44.456478</td>\n",
       "      <td>38937300</td>\n",
       "    </tr>\n",
       "  </tbody>\n",
       "</table>\n",
       "</div>"
      ],
      "text/plain": [
       "        Date       Open       High        Low      Close  Adj Close    Volume\n",
       "0 2015-04-27  47.230000  48.130001  47.220001  48.029999  43.880901  59248200\n",
       "1 2015-04-28  47.779999  49.209999  47.700001  49.160000  44.913280  60730800\n",
       "2 2015-04-29  48.720001  49.310001  48.500000  49.060001  44.821926  47804600\n",
       "3 2015-04-30  48.700001  49.540001  48.599998  48.639999  44.438210  64725500\n",
       "4 2015-05-01  48.580002  48.880001  48.400002  48.660000  44.456478  38937300"
      ]
     },
     "execution_count": 207,
     "metadata": {},
     "output_type": "execute_result"
    }
   ],
   "source": [
    "#convert to datetime\n",
    "msft_stock['Date'] = pd.to_datetime(msft_stock.Date)\n",
    "# msft_stock['Changed_Date'] = msft_stock['Date'].dt.strftime('%m/%d/%Y')\n",
    "msft_stock.head()"
   ]
  },
  {
   "cell_type": "code",
   "execution_count": 208,
   "metadata": {},
   "outputs": [
    {
     "data": {
      "text/html": [
       "<div>\n",
       "<style scoped>\n",
       "    .dataframe tbody tr th:only-of-type {\n",
       "        vertical-align: middle;\n",
       "    }\n",
       "\n",
       "    .dataframe tbody tr th {\n",
       "        vertical-align: top;\n",
       "    }\n",
       "\n",
       "    .dataframe thead th {\n",
       "        text-align: right;\n",
       "    }\n",
       "</style>\n",
       "<table border=\"1\" class=\"dataframe\">\n",
       "  <thead>\n",
       "    <tr style=\"text-align: right;\">\n",
       "      <th></th>\n",
       "      <th>date</th>\n",
       "      <th>followers</th>\n",
       "      <th>sentiment</th>\n",
       "      <th>location</th>\n",
       "    </tr>\n",
       "  </thead>\n",
       "  <tbody>\n",
       "    <tr>\n",
       "      <th>0</th>\n",
       "      <td>2015-04-27</td>\n",
       "      <td>307</td>\n",
       "      <td>0.6892</td>\n",
       "      <td>Washington</td>\n",
       "    </tr>\n",
       "    <tr>\n",
       "      <th>1</th>\n",
       "      <td>2015-04-27</td>\n",
       "      <td>272</td>\n",
       "      <td>0.0000</td>\n",
       "      <td>Washington</td>\n",
       "    </tr>\n",
       "    <tr>\n",
       "      <th>2</th>\n",
       "      <td>2015-04-27</td>\n",
       "      <td>211</td>\n",
       "      <td>0.0000</td>\n",
       "      <td>Washington</td>\n",
       "    </tr>\n",
       "    <tr>\n",
       "      <th>3</th>\n",
       "      <td>2015-04-27</td>\n",
       "      <td>1107</td>\n",
       "      <td>0.0000</td>\n",
       "      <td>Washington</td>\n",
       "    </tr>\n",
       "    <tr>\n",
       "      <th>4</th>\n",
       "      <td>2015-04-27</td>\n",
       "      <td>959</td>\n",
       "      <td>0.0000</td>\n",
       "      <td>Washington</td>\n",
       "    </tr>\n",
       "  </tbody>\n",
       "</table>\n",
       "</div>"
      ],
      "text/plain": [
       "        date  followers  sentiment    location\n",
       "0 2015-04-27        307     0.6892  Washington\n",
       "1 2015-04-27        272     0.0000  Washington\n",
       "2 2015-04-27        211     0.0000  Washington\n",
       "3 2015-04-27       1107     0.0000  Washington\n",
       "4 2015-04-27        959     0.0000  Washington"
      ]
     },
     "execution_count": 208,
     "metadata": {},
     "output_type": "execute_result"
    }
   ],
   "source": [
    "msft_twitter = pd.read_csv('microsoft_stock.csv')\n",
    "msft_twitter['date'] = pd.to_datetime(msft_twitter.date)\n",
    "msft_twitter.head()"
   ]
  },
  {
   "cell_type": "code",
   "execution_count": 214,
   "metadata": {},
   "outputs": [
    {
     "data": {
      "image/png": "[encoded data removed]",
      "text/plain": [
       "<Figure size 432x288 with 1 Axes>"
      ]
     },
     "metadata": {
      "needs_background": "light"
     },
     "output_type": "display_data"
    }
   ],
   "source": [
    "plot = msft_twitter[\"sentiment\"].hist(color='r')\n",
    "fig = plot.get_figure()\n",
    "fig.savefig(\"msft_sentiment.png\")"
   ]
  },
  {
   "cell_type": "code",
   "execution_count": 215,
   "metadata": {},
   "outputs": [
    {
     "data": {
      "text/plain": [
       "0     744.965517\n",
       "1    1548.950000\n",
       "2    6545.855932\n",
       "3    1411.784946\n",
       "4    1416.228916\n",
       "Name: followers, dtype: float64"
      ]
     },
     "execution_count": 215,
     "metadata": {},
     "output_type": "execute_result"
    }
   ],
   "source": [
    "#group tweets by date and average followers and sentiment for given day\n",
    "grouped_tweets = msft_twitter.groupby(\"date\", as_index=False).mean()\n",
    "grouped_tweets['followers'].head()\n",
    "#print(grouped_tweets.index)"
   ]
  },
  {
   "cell_type": "code",
   "execution_count": 219,
   "metadata": {},
   "outputs": [],
   "source": [
    "#Iterate through dataframes and assemble training data\n",
    "\n",
    "#training array\n",
    "# stock_change_1,sent_1,foll_1,...foll_2,foll_3,foll_4,foll_5\n",
    "stock_tweet = []\n",
    "stock = []\n",
    "#class array\n",
    "#delta (0 or 1)\n",
    "close_delta = []\n",
    "\n",
    "# iterate through msft stock array\n",
    "for day in range(6,len(msft_stock['Date'])-1):\n",
    "    training_entry = []\n",
    "    stock_entry = []\n",
    "    label_entry = 0\n",
    "    try:\n",
    "        # iterate through previous 5 stock dates\n",
    "        for i in range(day-5,day):\n",
    "            #print(i)\n",
    "            #calculate stock change percent\n",
    "            stock_change = (msft_stock['Adj Close'][i]-msft_stock['Adj Close'][i-1])/msft_stock['Adj Close'][i-1]\n",
    "            #add 4 days worth of stock change. 5th day goes into prediction class.\n",
    "            stock_entry.append(stock_change)\n",
    "            training_entry.append(stock_change)\n",
    "            # extract relevant row from from grouped tweet df\n",
    "            tweet_row = grouped_tweets.loc[grouped_tweets['date'] == msft_stock['Date'][i]]\n",
    "            training_entry.append(float(tweet_row['sentiment']))\n",
    "            training_entry.append(float(tweet_row['followers']))\n",
    "        label_entry = (msft_stock['Adj Close'][day]-msft_stock['Adj Close'][day-1])/msft_stock['Adj Close'][day-1]\n",
    "        stock_tweet.append(training_entry)\n",
    "        #print(len(training_entry))\n",
    "        stock.append(stock_entry)\n",
    "        close_delta.append(label_entry)\n",
    "#         print(training_entry)\n",
    "#         print(label_entry)\n",
    "#         print(\"\\n\")\n",
    "    except:\n",
    "        pass\n",
    "    #print(day)\n",
    "#msft_stock['Date'][4]-msft_stock['Date'][0]\n",
    "#timedelta(days=5)"
   ]
  },
  {
   "cell_type": "code",
   "execution_count": 220,
   "metadata": {},
   "outputs": [
    {
     "name": "stdout",
     "output_type": "stream",
     "text": [
      "219\n",
      "219\n",
      "219\n"
     ]
    }
   ],
   "source": [
    "print(len(stock_tweet))\n",
    "print(len(stock))\n",
    "print(len(close_delta))"
   ]
  },
  {
   "cell_type": "markdown",
   "metadata": {},
   "source": [
    "### Write training dataframe to csv"
   ]
  },
  {
   "cell_type": "code",
   "execution_count": 221,
   "metadata": {},
   "outputs": [
    {
     "data": {
      "text/html": [
       "<div>\n",
       "<style scoped>\n",
       "    .dataframe tbody tr th:only-of-type {\n",
       "        vertical-align: middle;\n",
       "    }\n",
       "\n",
       "    .dataframe tbody tr th {\n",
       "        vertical-align: top;\n",
       "    }\n",
       "\n",
       "    .dataframe thead th {\n",
       "        text-align: right;\n",
       "    }\n",
       "</style>\n",
       "<table border=\"1\" class=\"dataframe\">\n",
       "  <thead>\n",
       "    <tr style=\"text-align: right;\">\n",
       "      <th></th>\n",
       "      <th>day1_close</th>\n",
       "      <th>day1_sentiment</th>\n",
       "      <th>day1_followers</th>\n",
       "      <th>day2_close</th>\n",
       "      <th>day2_sentiment</th>\n",
       "      <th>day2_followers</th>\n",
       "      <th>day3_close</th>\n",
       "      <th>day3_sentiment</th>\n",
       "      <th>day3_followers</th>\n",
       "      <th>day4_close</th>\n",
       "      <th>day4_sentiment</th>\n",
       "      <th>day4_followers</th>\n",
       "      <th>day5_close</th>\n",
       "      <th>day5_sentiment</th>\n",
       "      <th>day5_followers</th>\n",
       "      <th>day6_delta</th>\n",
       "    </tr>\n",
       "  </thead>\n",
       "  <tbody>\n",
       "    <tr>\n",
       "      <th>0</th>\n",
       "      <td>0.023527</td>\n",
       "      <td>-0.019865</td>\n",
       "      <td>1548.950000</td>\n",
       "      <td>-0.002034</td>\n",
       "      <td>0.174986</td>\n",
       "      <td>6545.855932</td>\n",
       "      <td>-0.008561</td>\n",
       "      <td>0.126985</td>\n",
       "      <td>1411.784946</td>\n",
       "      <td>0.000411</td>\n",
       "      <td>0.198365</td>\n",
       "      <td>1416.228916</td>\n",
       "      <td>-0.008631</td>\n",
       "      <td>0.124655</td>\n",
       "      <td>2960.428571</td>\n",
       "      <td>-0.013267</td>\n",
       "    </tr>\n",
       "    <tr>\n",
       "      <th>1</th>\n",
       "      <td>-0.002034</td>\n",
       "      <td>0.174986</td>\n",
       "      <td>6545.855932</td>\n",
       "      <td>-0.008561</td>\n",
       "      <td>0.126985</td>\n",
       "      <td>1411.784946</td>\n",
       "      <td>0.000411</td>\n",
       "      <td>0.198365</td>\n",
       "      <td>1416.228916</td>\n",
       "      <td>-0.008631</td>\n",
       "      <td>0.124655</td>\n",
       "      <td>2960.428571</td>\n",
       "      <td>-0.013267</td>\n",
       "      <td>0.101424</td>\n",
       "      <td>1439.433735</td>\n",
       "      <td>-0.027731</td>\n",
       "    </tr>\n",
       "    <tr>\n",
       "      <th>2</th>\n",
       "      <td>-0.008561</td>\n",
       "      <td>0.126985</td>\n",
       "      <td>1411.784946</td>\n",
       "      <td>0.000411</td>\n",
       "      <td>0.198365</td>\n",
       "      <td>1416.228916</td>\n",
       "      <td>-0.008631</td>\n",
       "      <td>0.124655</td>\n",
       "      <td>2960.428571</td>\n",
       "      <td>-0.013267</td>\n",
       "      <td>0.101424</td>\n",
       "      <td>1439.433735</td>\n",
       "      <td>-0.027731</td>\n",
       "      <td>0.071216</td>\n",
       "      <td>3489.701493</td>\n",
       "      <td>0.009075</td>\n",
       "    </tr>\n",
       "    <tr>\n",
       "      <th>3</th>\n",
       "      <td>0.000411</td>\n",
       "      <td>0.198365</td>\n",
       "      <td>1416.228916</td>\n",
       "      <td>-0.008631</td>\n",
       "      <td>0.124655</td>\n",
       "      <td>2960.428571</td>\n",
       "      <td>-0.013267</td>\n",
       "      <td>0.101424</td>\n",
       "      <td>1439.433735</td>\n",
       "      <td>-0.027731</td>\n",
       "      <td>0.071216</td>\n",
       "      <td>3489.701493</td>\n",
       "      <td>0.009075</td>\n",
       "      <td>0.062804</td>\n",
       "      <td>5839.215686</td>\n",
       "      <td>0.022484</td>\n",
       "    </tr>\n",
       "    <tr>\n",
       "      <th>4</th>\n",
       "      <td>-0.008631</td>\n",
       "      <td>0.124655</td>\n",
       "      <td>2960.428571</td>\n",
       "      <td>-0.013267</td>\n",
       "      <td>0.101424</td>\n",
       "      <td>1439.433735</td>\n",
       "      <td>-0.027731</td>\n",
       "      <td>0.071216</td>\n",
       "      <td>3489.701493</td>\n",
       "      <td>0.009075</td>\n",
       "      <td>0.062804</td>\n",
       "      <td>5839.215686</td>\n",
       "      <td>0.022484</td>\n",
       "      <td>0.048287</td>\n",
       "      <td>2356.814815</td>\n",
       "      <td>-0.007958</td>\n",
       "    </tr>\n",
       "  </tbody>\n",
       "</table>\n",
       "</div>"
      ],
      "text/plain": [
       "   day1_close  day1_sentiment  day1_followers  day2_close  day2_sentiment  \\\n",
       "0    0.023527       -0.019865     1548.950000   -0.002034        0.174986   \n",
       "1   -0.002034        0.174986     6545.855932   -0.008561        0.126985   \n",
       "2   -0.008561        0.126985     1411.784946    0.000411        0.198365   \n",
       "3    0.000411        0.198365     1416.228916   -0.008631        0.124655   \n",
       "4   -0.008631        0.124655     2960.428571   -0.013267        0.101424   \n",
       "\n",
       "   day2_followers  day3_close  day3_sentiment  day3_followers  day4_close  \\\n",
       "0     6545.855932   -0.008561        0.126985     1411.784946    0.000411   \n",
       "1     1411.784946    0.000411        0.198365     1416.228916   -0.008631   \n",
       "2     1416.228916   -0.008631        0.124655     2960.428571   -0.013267   \n",
       "3     2960.428571   -0.013267        0.101424     1439.433735   -0.027731   \n",
       "4     1439.433735   -0.027731        0.071216     3489.701493    0.009075   \n",
       "\n",
       "   day4_sentiment  day4_followers  day5_close  day5_sentiment  day5_followers  \\\n",
       "0        0.198365     1416.228916   -0.008631        0.124655     2960.428571   \n",
       "1        0.124655     2960.428571   -0.013267        0.101424     1439.433735   \n",
       "2        0.101424     1439.433735   -0.027731        0.071216     3489.701493   \n",
       "3        0.071216     3489.701493    0.009075        0.062804     5839.215686   \n",
       "4        0.062804     5839.215686    0.022484        0.048287     2356.814815   \n",
       "\n",
       "   day6_delta  \n",
       "0   -0.013267  \n",
       "1   -0.027731  \n",
       "2    0.009075  \n",
       "3    0.022484  \n",
       "4   -0.007958  "
      ]
     },
     "execution_count": 221,
     "metadata": {},
     "output_type": "execute_result"
    }
   ],
   "source": [
    "full_data = []\n",
    "for i in range (0,len(stock_tweet)):\n",
    "    row = stock_tweet[i]\n",
    "    row.append(close_delta[i])\n",
    "    #print(len(row))\n",
    "    full_data.append(row)\n",
    "  \n",
    "full_training = pd.DataFrame(full_data, columns = ['day1_close','day1_sentiment','day1_followers','day2_close','day2_sentiment','day2_followers','day3_close','day3_sentiment','day3_followers','day4_close','day4_sentiment','day4_followers','day5_close','day5_sentiment','day5_followers','day6_delta'])\n",
    "full_training.to_csv('full_training_data.csv', index=\"False\", sep=',', encoding='utf-8')\n",
    "full_training.head()\n"
   ]
  },
  {
   "cell_type": "markdown",
   "metadata": {},
   "source": [
    "## Training binary classification \n",
    "#### 15 element feature vector with 5 previous days of stock price delta, followers, and sentiment"
   ]
  },
  {
   "cell_type": "code",
   "execution_count": 222,
   "metadata": {},
   "outputs": [],
   "source": [
    "import numpy as np\n",
    "from sklearn.model_selection import train_test_split\n",
    "from sklearn.svm import SVC\n",
    "from sklearn import tree\n",
    "from sklearn.ensemble import AdaBoostClassifier\n",
    "from sklearn.ensemble import AdaBoostRegressor\n",
    "from sklearn.svm import LinearSVC\n",
    "from sklearn.datasets import make_classification\n",
    "from sklearn.neighbors import KNeighborsClassifier\n",
    "from sklearn.tree import DecisionTreeClassifier\n",
    "from sklearn.model_selection import cross_val_score\n",
    "from sklearn.metrics import accuracy_score #accuracy scoring"
   ]
  },
  {
   "cell_type": "markdown",
   "metadata": {},
   "source": [
    "##### Training with full 15 element feature vector"
   ]
  },
  {
   "cell_type": "code",
   "execution_count": 223,
   "metadata": {},
   "outputs": [
    {
     "name": "stdout",
     "output_type": "stream",
     "text": [
      "219\n"
     ]
    }
   ],
   "source": [
    "#create binary classification of delta (1 = pos, 0 = neg)\n",
    "binary_delta = []\n",
    "\n",
    "for i in close_delta:\n",
    "    if i >= 0:\n",
    "        binary_delta.append(1)\n",
    "    else:\n",
    "        binary_delta.append(0)\n",
    "print(len(binary_delta))"
   ]
  },
  {
   "cell_type": "code",
   "execution_count": 228,
   "metadata": {},
   "outputs": [
    {
     "name": "stdout",
     "output_type": "stream",
     "text": [
      "Performance with Twitter data and Stocks\n",
      "neighbors: 1\n",
      "10F CV Accuracy: 0.55 (+/- 0.12)\n",
      "\n",
      "\n",
      "neighbors: 2\n",
      "10F CV Accuracy: 0.55 (+/- 0.12)\n",
      "\n",
      "\n",
      "neighbors: 3\n",
      "10F CV Accuracy: 0.60 (+/- 0.15)\n",
      "\n",
      "\n",
      "neighbors: 4\n",
      "10F CV Accuracy: 0.56 (+/- 0.15)\n",
      "\n",
      "\n",
      "neighbors: 5\n",
      "10F CV Accuracy: 0.60 (+/- 0.26)\n",
      "\n",
      "\n",
      "neighbors: 6\n",
      "10F CV Accuracy: 0.57 (+/- 0.20)\n",
      "\n",
      "\n",
      "neighbors: 7\n",
      "10F CV Accuracy: 0.56 (+/- 0.23)\n",
      "\n",
      "\n",
      "neighbors: 8\n",
      "10F CV Accuracy: 0.54 (+/- 0.24)\n",
      "\n",
      "\n",
      "neighbors: 9\n",
      "10F CV Accuracy: 0.55 (+/- 0.23)\n",
      "\n",
      "\n"
     ]
    }
   ],
   "source": [
    "#create binary classification of delta (1 = pos, 0 = neg)\n",
    "binary_delta = []\n",
    "\n",
    "for i in close_delta:\n",
    "    if i >= 0:\n",
    "        binary_delta.append(1)\n",
    "    else:\n",
    "        binary_delta.append(0)\n",
    "\n",
    "#numpy array version of data\n",
    "X = np.array(stock_tweet)\n",
    "y = np.array(binary_delta)\n",
    "\n",
    "#split into training/test\n",
    "X_train, X_test, y_train, y_test = train_test_split(X, y, test_size=0.20, random_state=26)\n",
    "\n",
    "print(\"Performance with Twitter data and Stocks\")\n",
    "for n in range (1,10):\n",
    "    #model training svm approach\n",
    "    # clf = SVC(kernel=\"rbf\")\n",
    "    # clf = LinearSVC(max_iter=10000,random_state=0, tol=1e-5,C=0.2)\n",
    "    print(\"neighbors: \" + str(n))\n",
    "    clf = KNeighborsClassifier(n_neighbors=n,weights='distance',leaf_size=15)\n",
    "    # clf = AdaBoostClassifier(DecisionTreeClassifier(max_depth=1),\n",
    "    #                          algorithm=\"SAMME\",\n",
    "    #                          n_estimators=200)\n",
    "    #linear kernel train-0.54/test-0.68\n",
    "\n",
    "    #clf.fit(X_train, y_train)\n",
    "    scores = cross_val_score(clf, X_train, y_train, cv=10)\n",
    "    \n",
    "    # print(\"Train Acc: \" + str(clf.score(X_train,y_train)))\n",
    "    print(\"10F CV Accuracy: %0.2f (+/- %0.2f)\" % (scores.mean(), scores.std() * 2))\n",
    "    print(\"\\n\")"
   ]
  },
  {
   "cell_type": "markdown",
   "metadata": {},
   "source": [
    "##### Training with 5 element feature vector (stock only)"
   ]
  },
  {
   "cell_type": "code",
   "execution_count": 225,
   "metadata": {},
   "outputs": [
    {
     "name": "stdout",
     "output_type": "stream",
     "text": [
      "Performance with Stocks\n",
      "10F CV Accuracy: 0.45 (+/- 0.26)\n"
     ]
    }
   ],
   "source": [
    "#numpy array version of data\n",
    "X = np.array(stock)\n",
    "y = np.array(binary_delta)\n",
    "\n",
    "#split into training/test\n",
    "X_train, X_test, y_train, y_test = train_test_split(X, y, test_size=0.20, random_state=22)\n",
    "\n",
    "#model training svm approach\n",
    "# clf = SVC(kernel=\"rbf\")\n",
    "clf = KNeighborsClassifier(n_neighbors=3)\n",
    "\n",
    "clf.fit(X_train, y_train)\n",
    "scores = cross_val_score(clf, X_train, y_train, cv=10)\n",
    "print(\"Performance with Stocks\")\n",
    "# print(\"Accuracy: \" + str(clf.score(X_train,y_train)))\n",
    "print(\"10F CV Accuracy: %0.2f (+/- %0.2f)\" % (scores.mean(), scores.std() * 2))"
   ]
  },
  {
   "cell_type": "markdown",
   "metadata": {},
   "source": [
    "## Training close delta prediction\n",
    "#### 15 element feature vector with 5 previous days of stock price delta, followers, and sentiment"
   ]
  },
  {
   "cell_type": "code",
   "execution_count": 226,
   "metadata": {},
   "outputs": [],
   "source": [
    "from sklearn import linear_model\n",
    "from sklearn.linear_model import ElasticNet\n",
    "from sklearn.datasets import make_regression\n",
    "from sklearn.linear_model import Ridge"
   ]
  },
  {
   "cell_type": "code",
   "execution_count": 227,
   "metadata": {},
   "outputs": [
    {
     "name": "stdout",
     "output_type": "stream",
     "text": [
      "alpha: 0\n",
      "Score: 1.0\n",
      "\n",
      "\n",
      "alpha: 1\n",
      "Score: 0.0578309120620284\n",
      "\n",
      "\n",
      "alpha: 2\n",
      "Score: 0.021718210964872364\n",
      "\n",
      "\n",
      "alpha: 3\n",
      "Score: 0.008883544047841196\n",
      "\n",
      "\n",
      "alpha: 4\n",
      "Score: 0.002264142104735356\n",
      "\n",
      "\n",
      "alpha: 5\n",
      "Score: -0.0017829473709276564\n",
      "\n",
      "\n",
      "alpha: 6\n",
      "Score: -0.004515566989832243\n",
      "\n",
      "\n",
      "alpha: 7\n",
      "Score: -0.006485490513349346\n",
      "\n",
      "\n",
      "alpha: 8\n",
      "Score: -0.007973277151808178\n",
      "\n",
      "\n",
      "alpha: 9\n",
      "Score: -0.009136795388405838\n",
      "\n",
      "\n",
      "alpha: 10\n",
      "Score: -0.010071723953851697\n",
      "\n",
      "\n"
     ]
    }
   ],
   "source": [
    "#numpy array version of data\n",
    "X = np.array(stock_tweet)\n",
    "y = np.array(close_delta)\n",
    "\n",
    "#split into training/test\n",
    "X_train, X_test, y_train, y_test = train_test_split(X, y, test_size=0.20, random_state=100)\n",
    "\n",
    "#model training Ridge Regression approach\n",
    "# clf = linear_model.Lasso(alpha=0.1)\n",
    "# clf = ElasticNet(random_state=0)\n",
    "for a in range (0,11):\n",
    "    clf = Ridge(alpha=a)\n",
    "    #clf = linear_model.Lasso(alpha=(a/10))\n",
    "    # clf = ElasticNet(random_state=0)\n",
    "\n",
    "    clf.fit(X_train, y_train)\n",
    "    print(\"alpha: \" + str(a))\n",
    "    print(\"Score: \" + str(clf.score(X_test, y_test)))\n",
    "    print(\"\\n\")\n"
   ]
  },
  {
   "cell_type": "code",
   "execution_count": null,
   "metadata": {},
   "outputs": [],
   "source": []
  }
 ],
 "metadata": {
  "kernelspec": {
   "display_name": "Python 3",
   "language": "python",
   "name": "python3"
  },
  "language_info": {
   "codemirror_mode": {
    "name": "ipython",
    "version": 3
   },
   "file_extension": ".py",
   "mimetype": "text/x-python",
   "name": "python",
   "nbconvert_exporter": "python",
   "pygments_lexer": "ipython3",
   "version": "3.7.0"
  }
 },
 "nbformat": 4,
 "nbformat_minor": 2
}
